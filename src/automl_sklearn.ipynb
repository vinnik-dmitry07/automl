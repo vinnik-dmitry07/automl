{
  "cells": [
    {
      "cell_type": "code",
      "execution_count": null,
      "metadata": {
        "colab": {
          "base_uri": "https://localhost:8080/"
        },
        "id": "wNAyBvnoSCtp",
        "outputId": "d79dc38a-2a37-47a8-816e-3b0d3d367f38"
      },
      "outputs": [
        {
          "name": "stdout",
          "output_type": "stream",
          "text": [
            "Collecting git+https://github.com/Frankothe196/auto-sklearn.git@python3.10-added-compatibility\n",
            "  Cloning https://github.com/Frankothe196/auto-sklearn.git (to revision python3.10-added-compatibility) to /tmp/pip-req-build-8et_nrdz\n",
            "  Running command git clone --filter=blob:none --quiet https://github.com/Frankothe196/auto-sklearn.git /tmp/pip-req-build-8et_nrdz\n",
            "  Running command git checkout -b python3.10-added-compatibility --track origin/python3.10-added-compatibility\n",
            "  Switched to a new branch 'python3.10-added-compatibility'\n",
            "  Branch 'python3.10-added-compatibility' set up to track remote branch 'python3.10-added-compatibility' from 'origin'.\n",
            "  Resolved https://github.com/Frankothe196/auto-sklearn.git to commit 80a575760e99945fa31970b1479edeb759bc645a\n",
            "  Running command git submodule update --init --recursive -q\n",
            "  Installing build dependencies ... \u001b[?25l\u001b[?25hdone\n",
            "  Getting requirements to build wheel ... \u001b[?25l\u001b[?25hdone\n",
            "  Preparing metadata (pyproject.toml) ... \u001b[?25l\u001b[?25hdone\n",
            "Requirement already satisfied: setuptools in /usr/local/lib/python3.10/dist-packages (from auto-sklearn==0.16.0.dev0) (67.7.2)\n",
            "Requirement already satisfied: typing-extensions in /usr/local/lib/python3.10/dist-packages (from auto-sklearn==0.16.0.dev0) (4.7.1)\n",
            "Requirement already satisfied: distro in /usr/lib/python3/dist-packages (from auto-sklearn==0.16.0.dev0) (1.7.0)\n",
            "Requirement already satisfied: numpy>=1.9.0 in /usr/local/lib/python3.10/dist-packages (from auto-sklearn==0.16.0.dev0) (1.23.5)\n",
            "Requirement already satisfied: scipy>=1.7.0 in /usr/local/lib/python3.10/dist-packages (from auto-sklearn==0.16.0.dev0) (1.10.1)\n",
            "Requirement already satisfied: joblib in /usr/local/lib/python3.10/dist-packages (from auto-sklearn==0.16.0.dev0) (1.3.2)\n",
            "Requirement already satisfied: scikit-learn in /usr/local/lib/python3.10/dist-packages (from auto-sklearn==0.16.0.dev0) (1.2.2)\n",
            "Requirement already satisfied: dask>=2021.12 in /usr/local/lib/python3.10/dist-packages (from auto-sklearn==0.16.0.dev0) (2023.8.0)\n",
            "Requirement already satisfied: distributed>=2012.12 in /usr/local/lib/python3.10/dist-packages (from auto-sklearn==0.16.0.dev0) (2023.8.0)\n",
            "Requirement already satisfied: pyyaml in /usr/local/lib/python3.10/dist-packages (from auto-sklearn==0.16.0.dev0) (6.0.1)\n",
            "Requirement already satisfied: pandas>=1.0 in /usr/local/lib/python3.10/dist-packages (from auto-sklearn==0.16.0.dev0) (1.5.3)\n",
            "Collecting liac-arff (from auto-sklearn==0.16.0.dev0)\n",
            "  Downloading liac-arff-2.5.0.tar.gz (13 kB)\n",
            "  Preparing metadata (setup.py) ... \u001b[?25l\u001b[?25hdone\n",
            "Requirement already satisfied: threadpoolctl in /usr/local/lib/python3.10/dist-packages (from auto-sklearn==0.16.0.dev0) (3.2.0)\n",
            "Requirement already satisfied: tqdm in /usr/local/lib/python3.10/dist-packages (from auto-sklearn==0.16.0.dev0) (4.66.0)\n",
            "Collecting ConfigSpace<0.5,>=0.4.21 (from auto-sklearn==0.16.0.dev0)\n",
            "  Downloading ConfigSpace-0.4.21-cp310-cp310-manylinux_2_17_x86_64.manylinux2014_x86_64.whl (4.8 MB)\n",
            "\u001b[2K     \u001b[90m━━━━━━━━━━━━━━━━━━━━━━━━━━━━━━━━━━━━━━━━\u001b[0m \u001b[32m4.8/4.8 MB\u001b[0m \u001b[31m11.5 MB/s\u001b[0m eta \u001b[36m0:00:00\u001b[0m\n",
            "\u001b[?25hCollecting pynisher<0.7,>=0.6.3 (from auto-sklearn==0.16.0.dev0)\n",
            "  Downloading pynisher-0.6.4.tar.gz (11 kB)\n",
            "  Preparing metadata (setup.py) ... \u001b[?25l\u001b[?25hdone\n",
            "Collecting pyrfr<0.9,>=0.8.1 (from auto-sklearn==0.16.0.dev0)\n",
            "  Downloading pyrfr-0.8.3-cp310-cp310-manylinux_2_17_x86_64.manylinux2014_x86_64.whl (4.5 MB)\n",
            "\u001b[2K     \u001b[90m━━━━━━━━━━━━━━━━━━━━━━━━━━━━━━━━━━━━━━━━\u001b[0m \u001b[32m4.5/4.5 MB\u001b[0m \u001b[31m28.3 MB/s\u001b[0m eta \u001b[36m0:00:00\u001b[0m\n",
            "\u001b[?25hCollecting smac<1.3,>=1.2 (from auto-sklearn==0.16.0.dev0)\n",
            "  Downloading smac-1.2.tar.gz (260 kB)\n",
            "\u001b[2K     \u001b[90m━━━━━━━━━━━━━━━━━━━━━━━━━━━━━━━━━━━━━━\u001b[0m \u001b[32m260.9/260.9 kB\u001b[0m \u001b[31m26.5 MB/s\u001b[0m eta \u001b[36m0:00:00\u001b[0m\n",
            "\u001b[?25h  Preparing metadata (setup.py) ... \u001b[?25l\u001b[?25hdone\n",
            "Requirement already satisfied: cython in /usr/local/lib/python3.10/dist-packages (from ConfigSpace<0.5,>=0.4.21->auto-sklearn==0.16.0.dev0) (0.29.36)\n",
            "Requirement already satisfied: pyparsing in /usr/local/lib/python3.10/dist-packages (from ConfigSpace<0.5,>=0.4.21->auto-sklearn==0.16.0.dev0) (3.1.1)\n",
            "Requirement already satisfied: click>=8.0 in /usr/local/lib/python3.10/dist-packages (from dask>=2021.12->auto-sklearn==0.16.0.dev0) (8.1.6)\n",
            "Requirement already satisfied: cloudpickle>=1.5.0 in /usr/local/lib/python3.10/dist-packages (from dask>=2021.12->auto-sklearn==0.16.0.dev0) (2.2.1)\n",
            "Requirement already satisfied: fsspec>=2021.09.0 in /usr/local/lib/python3.10/dist-packages (from dask>=2021.12->auto-sklearn==0.16.0.dev0) (2023.6.0)\n",
            "Requirement already satisfied: packaging>=20.0 in /usr/local/lib/python3.10/dist-packages (from dask>=2021.12->auto-sklearn==0.16.0.dev0) (23.1)\n",
            "Requirement already satisfied: partd>=1.2.0 in /usr/local/lib/python3.10/dist-packages (from dask>=2021.12->auto-sklearn==0.16.0.dev0) (1.4.0)\n",
            "Requirement already satisfied: toolz>=0.10.0 in /usr/local/lib/python3.10/dist-packages (from dask>=2021.12->auto-sklearn==0.16.0.dev0) (0.12.0)\n",
            "Requirement already satisfied: importlib-metadata>=4.13.0 in /usr/local/lib/python3.10/dist-packages (from dask>=2021.12->auto-sklearn==0.16.0.dev0) (6.8.0)\n",
            "Requirement already satisfied: jinja2>=2.10.3 in /usr/local/lib/python3.10/dist-packages (from distributed>=2012.12->auto-sklearn==0.16.0.dev0) (3.1.2)\n",
            "Requirement already satisfied: locket>=1.0.0 in /usr/local/lib/python3.10/dist-packages (from distributed>=2012.12->auto-sklearn==0.16.0.dev0) (1.0.0)\n",
            "Requirement already satisfied: msgpack>=1.0.0 in /usr/local/lib/python3.10/dist-packages (from distributed>=2012.12->auto-sklearn==0.16.0.dev0) (1.0.5)\n",
            "Requirement already satisfied: psutil>=5.7.2 in /usr/local/lib/python3.10/dist-packages (from distributed>=2012.12->auto-sklearn==0.16.0.dev0) (5.9.5)\n",
            "Requirement already satisfied: sortedcontainers>=2.0.5 in /usr/local/lib/python3.10/dist-packages (from distributed>=2012.12->auto-sklearn==0.16.0.dev0) (2.4.0)\n",
            "Requirement already satisfied: tblib>=1.6.0 in /usr/local/lib/python3.10/dist-packages (from distributed>=2012.12->auto-sklearn==0.16.0.dev0) (2.0.0)\n",
            "Requirement already satisfied: tornado>=6.0.4 in /usr/local/lib/python3.10/dist-packages (from distributed>=2012.12->auto-sklearn==0.16.0.dev0) (6.3.1)\n",
            "Requirement already satisfied: urllib3>=1.24.3 in /usr/local/lib/python3.10/dist-packages (from distributed>=2012.12->auto-sklearn==0.16.0.dev0) (2.0.4)\n",
            "Requirement already satisfied: zict>=2.2.0 in /usr/local/lib/python3.10/dist-packages (from distributed>=2012.12->auto-sklearn==0.16.0.dev0) (3.0.0)\n",
            "Requirement already satisfied: python-dateutil>=2.8.1 in /usr/local/lib/python3.10/dist-packages (from pandas>=1.0->auto-sklearn==0.16.0.dev0) (2.8.2)\n",
            "Requirement already satisfied: pytz>=2020.1 in /usr/local/lib/python3.10/dist-packages (from pandas>=1.0->auto-sklearn==0.16.0.dev0) (2023.3)\n",
            "Collecting emcee>=3.0.0 (from smac<1.3,>=1.2->auto-sklearn==0.16.0.dev0)\n",
            "  Downloading emcee-3.1.4-py2.py3-none-any.whl (46 kB)\n",
            "\u001b[2K     \u001b[90m━━━━━━━━━━━━━━━━━━━━━━━━━━━━━━━━━━━━━━━━\u001b[0m \u001b[32m46.2/46.2 kB\u001b[0m \u001b[31m4.4 MB/s\u001b[0m eta \u001b[36m0:00:00\u001b[0m\n",
            "\u001b[?25hRequirement already satisfied: zipp>=0.5 in /usr/local/lib/python3.10/dist-packages (from importlib-metadata>=4.13.0->dask>=2021.12->auto-sklearn==0.16.0.dev0) (3.16.2)\n",
            "Requirement already satisfied: MarkupSafe>=2.0 in /usr/local/lib/python3.10/dist-packages (from jinja2>=2.10.3->distributed>=2012.12->auto-sklearn==0.16.0.dev0) (2.1.3)\n",
            "Requirement already satisfied: six>=1.5 in /usr/local/lib/python3.10/dist-packages (from python-dateutil>=2.8.1->pandas>=1.0->auto-sklearn==0.16.0.dev0) (1.16.0)\n",
            "Building wheels for collected packages: auto-sklearn, pynisher, smac, liac-arff\n",
            "  Building wheel for auto-sklearn (pyproject.toml) ... \u001b[?25l\u001b[?25hdone\n",
            "  Created wheel for auto-sklearn: filename=auto_sklearn-0.16.0.dev0-py3-none-any.whl size=6847472 sha256=5dbd8787bc1c061f7a95acc48791ae6b2673a7ace74bc616d2d51d608c085518\n",
            "  Stored in directory: /tmp/pip-ephem-wheel-cache-pgx24uxf/wheels/b2/a5/36/69585487bc52484f01b9a841fbcd250f9330709973a8f5caef\n",
            "  Building wheel for pynisher (setup.py) ... \u001b[?25l\u001b[?25hdone\n",
            "  Created wheel for pynisher: filename=pynisher-0.6.4-py3-none-any.whl size=7027 sha256=7c9c0243635bdfab760f1c4522c2a9ecba84abdd7d2bda507fa63f7a6920cd9b\n",
            "  Stored in directory: /root/.cache/pip/wheels/90/7b/53/b21d6b41910f43c7f1557262e579598f83e75e44c659c1bcce\n",
            "  Building wheel for smac (setup.py) ... \u001b[?25l\u001b[?25hdone\n",
            "  Created wheel for smac: filename=smac-1.2-py3-none-any.whl size=215906 sha256=f02f9a81c317ec298f18eaed43b14a3539e1fc03044abce2bc5ef04c6e41ac75\n",
            "  Stored in directory: /root/.cache/pip/wheels/66/2e/d9/2db14bdfcdc36bf12e202b44201df03f194367fcfd85ce2778\n",
            "  Building wheel for liac-arff (setup.py) ... \u001b[?25l\u001b[?25hdone\n",
            "  Created wheel for liac-arff: filename=liac_arff-2.5.0-py3-none-any.whl size=11717 sha256=5f9f53cdc470a482c7b8dad9c1475de5fc5debd380af5e3eebced8bc5e068698\n",
            "  Stored in directory: /root/.cache/pip/wheels/5d/2a/9c/3895d9617f8f49a0883ba686326d598e78a1c2f54fe3cae86d\n",
            "Successfully built auto-sklearn pynisher smac liac-arff\n",
            "Installing collected packages: pyrfr, pynisher, liac-arff, emcee, ConfigSpace, smac, auto-sklearn\n",
            "Successfully installed ConfigSpace-0.4.21 auto-sklearn-0.16.0.dev0 emcee-3.1.4 liac-arff-2.5.0 pynisher-0.6.4 pyrfr-0.8.3 smac-1.2\n"
          ]
        }
      ],
      "source": [
        "!pip install  git+https://github.com/Frankothe196/auto-sklearn.git@python3.10-added-compatibility"
      ]
    },
    {
      "cell_type": "code",
      "execution_count": null,
      "metadata": {
        "colab": {
          "base_uri": "https://localhost:8080/",
          "height": 109
        },
        "id": "On0RfMqcRgjj",
        "outputId": "ba19bbe2-839d-494b-ac4a-4247c6c3aec5"
      },
      "outputs": [
        {
          "name": "stderr",
          "output_type": "stream",
          "text": [
            "Fitting to the training data: 100%|\u001b[32m██████████\u001b[0m| 3600/3600 [59:58<00:00,  1.00it/s, The total time budget for this task is 1:00:00]\n"
          ]
        },
        {
          "data": {
            "text/html": [
              "<style>#sk-container-id-1 {color: black;background-color: white;}#sk-container-id-1 pre{padding: 0;}#sk-container-id-1 div.sk-toggleable {background-color: white;}#sk-container-id-1 label.sk-toggleable__label {cursor: pointer;display: block;width: 100%;margin-bottom: 0;padding: 0.3em;box-sizing: border-box;text-align: center;}#sk-container-id-1 label.sk-toggleable__label-arrow:before {content: \"▸\";float: left;margin-right: 0.25em;color: #696969;}#sk-container-id-1 label.sk-toggleable__label-arrow:hover:before {color: black;}#sk-container-id-1 div.sk-estimator:hover label.sk-toggleable__label-arrow:before {color: black;}#sk-container-id-1 div.sk-toggleable__content {max-height: 0;max-width: 0;overflow: hidden;text-align: left;background-color: #f0f8ff;}#sk-container-id-1 div.sk-toggleable__content pre {margin: 0.2em;color: black;border-radius: 0.25em;background-color: #f0f8ff;}#sk-container-id-1 input.sk-toggleable__control:checked~div.sk-toggleable__content {max-height: 200px;max-width: 100%;overflow: auto;}#sk-container-id-1 input.sk-toggleable__control:checked~label.sk-toggleable__label-arrow:before {content: \"▾\";}#sk-container-id-1 div.sk-estimator input.sk-toggleable__control:checked~label.sk-toggleable__label {background-color: #d4ebff;}#sk-container-id-1 div.sk-label input.sk-toggleable__control:checked~label.sk-toggleable__label {background-color: #d4ebff;}#sk-container-id-1 input.sk-hidden--visually {border: 0;clip: rect(1px 1px 1px 1px);clip: rect(1px, 1px, 1px, 1px);height: 1px;margin: -1px;overflow: hidden;padding: 0;position: absolute;width: 1px;}#sk-container-id-1 div.sk-estimator {font-family: monospace;background-color: #f0f8ff;border: 1px dotted black;border-radius: 0.25em;box-sizing: border-box;margin-bottom: 0.5em;}#sk-container-id-1 div.sk-estimator:hover {background-color: #d4ebff;}#sk-container-id-1 div.sk-parallel-item::after {content: \"\";width: 100%;border-bottom: 1px solid gray;flex-grow: 1;}#sk-container-id-1 div.sk-label:hover label.sk-toggleable__label {background-color: #d4ebff;}#sk-container-id-1 div.sk-serial::before {content: \"\";position: absolute;border-left: 1px solid gray;box-sizing: border-box;top: 0;bottom: 0;left: 50%;z-index: 0;}#sk-container-id-1 div.sk-serial {display: flex;flex-direction: column;align-items: center;background-color: white;padding-right: 0.2em;padding-left: 0.2em;position: relative;}#sk-container-id-1 div.sk-item {position: relative;z-index: 1;}#sk-container-id-1 div.sk-parallel {display: flex;align-items: stretch;justify-content: center;background-color: white;position: relative;}#sk-container-id-1 div.sk-item::before, #sk-container-id-1 div.sk-parallel-item::before {content: \"\";position: absolute;border-left: 1px solid gray;box-sizing: border-box;top: 0;bottom: 0;left: 50%;z-index: -1;}#sk-container-id-1 div.sk-parallel-item {display: flex;flex-direction: column;z-index: 1;position: relative;background-color: white;}#sk-container-id-1 div.sk-parallel-item:first-child::after {align-self: flex-end;width: 50%;}#sk-container-id-1 div.sk-parallel-item:last-child::after {align-self: flex-start;width: 50%;}#sk-container-id-1 div.sk-parallel-item:only-child::after {width: 0;}#sk-container-id-1 div.sk-dashed-wrapped {border: 1px dashed gray;margin: 0 0.4em 0.5em 0.4em;box-sizing: border-box;padding-bottom: 0.4em;background-color: white;}#sk-container-id-1 div.sk-label label {font-family: monospace;font-weight: bold;display: inline-block;line-height: 1.2em;}#sk-container-id-1 div.sk-label-container {text-align: center;}#sk-container-id-1 div.sk-container {/* jupyter's `normalize.less` sets `[hidden] { display: none; }` but bootstrap.min.css set `[hidden] { display: none !important; }` so we also need the `!important` here to be able to override the default hidden behavior on the sphinx rendered scikit-learn.org. See: https://github.com/scikit-learn/scikit-learn/issues/21755 */display: inline-block !important;position: relative;}#sk-container-id-1 div.sk-text-repr-fallback {display: none;}</style><div id=\"sk-container-id-1\" class=\"sk-top-container\"><div class=\"sk-text-repr-fallback\"><pre>AutoSklearnClassifier(ensemble_class=&lt;class &#x27;autosklearn.ensembles.ensemble_selection.EnsembleSelection&#x27;&gt;,\n",
              "                      per_run_time_limit=360)</pre><b>In a Jupyter environment, please rerun this cell to show the HTML representation or trust the notebook. <br />On GitHub, the HTML representation is unable to render, please try loading this page with nbviewer.org.</b></div><div class=\"sk-container\" hidden><div class=\"sk-item\"><div class=\"sk-estimator sk-toggleable\"><input class=\"sk-toggleable__control sk-hidden--visually\" id=\"sk-estimator-id-1\" type=\"checkbox\" checked><label for=\"sk-estimator-id-1\" class=\"sk-toggleable__label sk-toggleable__label-arrow\">AutoSklearnClassifier</label><div class=\"sk-toggleable__content\"><pre>AutoSklearnClassifier(ensemble_class=&lt;class &#x27;autosklearn.ensembles.ensemble_selection.EnsembleSelection&#x27;&gt;,\n",
              "                      per_run_time_limit=360)</pre></div></div></div></div></div>"
            ],
            "text/plain": [
              "AutoSklearnClassifier(ensemble_class=<class 'autosklearn.ensembles.ensemble_selection.EnsembleSelection'>,\n",
              "                      per_run_time_limit=360)"
            ]
          },
          "execution_count": 6,
          "metadata": {},
          "output_type": "execute_result"
        }
      ],
      "source": [
        "import autosklearn.classification\n",
        "import numpy as np\n",
        "from sklearn.model_selection import train_test_split\n",
        "\n",
        "\n",
        "npz = np.load('data_matrix.npz')\n",
        "x_train, x_test, y_train, y_test = train_test_split(npz['x'], npz['y'])\n",
        "\n",
        "cls = autosklearn.classification.AutoSklearnClassifier()\n",
        "cls.fit(x_train, y_train)"
      ]
    },
    {
      "cell_type": "code",
      "execution_count": null,
      "metadata": {
        "colab": {
          "base_uri": "https://localhost:8080/"
        },
        "id": "efPGq4ziUrv2",
        "outputId": "82d61aac-b0fb-4e5b-f00c-15e106c95a5b"
      },
      "outputs": [
        {
          "name": "stdout",
          "output_type": "stream",
          "text": [
            "          rank  ensemble_weight                 type      cost   duration\n",
            "model_id                                                                 \n",
            "33           1             0.02         bernoulli_nb  0.273973  20.399084\n",
            "101          2             0.02                  sgd  0.277397   3.790635\n",
            "3            3             0.02        liblinear_svc  0.292808  30.669920\n",
            "29           5             0.02                  lda  0.292808  14.367199\n",
            "116          4             0.02                  lda  0.292808   3.550196\n",
            "13           6             0.04   passive_aggressive  0.294521  33.020195\n",
            "105          7             0.02                  lda  0.303082   4.295961\n",
            "122          8             0.06                  lda  0.304795   3.644352\n",
            "18           9             0.06  k_nearest_neighbors  0.309932   3.268207\n",
            "28          10             0.02        liblinear_svc  0.327055  23.387904\n",
            "100         11             0.02   passive_aggressive  0.333904  27.495153\n",
            "123         12             0.06                  lda  0.333904   4.167717\n",
            "112         13             0.02                  lda  0.340753   2.453173\n",
            "35          14             0.04                  lda  0.378425  15.035283\n",
            "20          15             0.02        random_forest  0.390411  11.024578\n",
            "64          16             0.44             adaboost  0.392123  17.061511\n",
            "68          18             0.04        random_forest  0.398973   3.271788\n",
            "97          17             0.02          extra_trees  0.398973   5.152390\n",
            "24          19             0.02        random_forest  0.400685  17.371203\n",
            "36          20             0.02                  mlp  0.416096   5.134668\n"
          ]
        }
      ],
      "source": [
        "print(cls.leaderboard())"
      ]
    },
    {
      "cell_type": "code",
      "execution_count": null,
      "metadata": {
        "colab": {
          "base_uri": "https://localhost:8080/"
        },
        "id": "Y_X9Yga8U-uF",
        "outputId": "ed10f8aa-abc0-4988-84e0-e746922ece33"
      },
      "outputs": [
        {
          "name": "stdout",
          "output_type": "stream",
          "text": [
            "{   3: {   'balancing': Balancing(random_state=1),\n",
            "           'classifier': <autosklearn.pipeline.components.classification.ClassifierChoice object at 0x7980fd0bc400>,\n",
            "           'cost': 0.2928082191780822,\n",
            "           'data_preprocessor': <autosklearn.pipeline.components.data_preprocessing.DataPreprocessorChoice object at 0x798136037ca0>,\n",
            "           'ensemble_weight': 0.02,\n",
            "           'feature_preprocessor': <autosklearn.pipeline.components.feature_preprocessing.FeaturePreprocessorChoice object at 0x7980fd0be6b0>,\n",
            "           'model_id': 3,\n",
            "           'rank': 7,\n",
            "           'sklearn_classifier': LinearSVC(C=6.395900616857626, dual=False, intercept_scaling=1.0,\n",
            "          random_state=1, tol=0.00016419370701353068)},\n",
            "    13: {   'balancing': Balancing(random_state=1),\n",
            "            'classifier': <autosklearn.pipeline.components.classification.ClassifierChoice object at 0x7980fd1a3340>,\n",
            "            'cost': 0.29452054794520544,\n",
            "            'data_preprocessor': <autosklearn.pipeline.components.data_preprocessing.DataPreprocessorChoice object at 0x798136035330>,\n",
            "            'ensemble_weight': 0.04,\n",
            "            'feature_preprocessor': <autosklearn.pipeline.components.feature_preprocessing.FeaturePreprocessorChoice object at 0x7980fd0bc9d0>,\n",
            "            'model_id': 13,\n",
            "            'rank': 10,\n",
            "            'sklearn_classifier': PassiveAggressiveClassifier(C=2.9583040834150597e-05, loss='squared_hinge',\n",
            "                            max_iter=1024, random_state=1,\n",
            "                            tol=0.00014689422976194423, warm_start=True)},\n",
            "    18: {   'balancing': Balancing(random_state=1, strategy='weighting'),\n",
            "            'classifier': <autosklearn.pipeline.components.classification.ClassifierChoice object at 0x7980fd1a30a0>,\n",
            "            'cost': 0.30993150684931503,\n",
            "            'data_preprocessor': <autosklearn.pipeline.components.data_preprocessing.DataPreprocessorChoice object at 0x7980fd0bdb70>,\n",
            "            'ensemble_weight': 0.06,\n",
            "            'feature_preprocessor': <autosklearn.pipeline.components.feature_preprocessing.FeaturePreprocessorChoice object at 0x7980fd1a1450>,\n",
            "            'model_id': 18,\n",
            "            'rank': 18,\n",
            "            'sklearn_classifier': KNeighborsClassifier(n_neighbors=4, weights='distance')},\n",
            "    20: {   'balancing': Balancing(random_state=1, strategy='weighting'),\n",
            "            'classifier': <autosklearn.pipeline.components.classification.ClassifierChoice object at 0x7980fd1a11e0>,\n",
            "            'cost': 0.3904109589041096,\n",
            "            'data_preprocessor': <autosklearn.pipeline.components.data_preprocessing.DataPreprocessorChoice object at 0x7980fd0bcc70>,\n",
            "            'ensemble_weight': 0.02,\n",
            "            'feature_preprocessor': <autosklearn.pipeline.components.feature_preprocessing.FeaturePreprocessorChoice object at 0x7980fd1a1c60>,\n",
            "            'model_id': 20,\n",
            "            'rank': 41,\n",
            "            'sklearn_classifier': RandomForestClassifier(bootstrap=False, max_features=12, min_samples_leaf=2,\n",
            "                       min_samples_split=3, n_estimators=512, n_jobs=1,\n",
            "                       random_state=1, warm_start=True)},\n",
            "    24: {   'balancing': Balancing(random_state=1),\n",
            "            'classifier': <autosklearn.pipeline.components.classification.ClassifierChoice object at 0x7980fb785570>,\n",
            "            'cost': 0.40068493150684936,\n",
            "            'data_preprocessor': <autosklearn.pipeline.components.data_preprocessing.DataPreprocessorChoice object at 0x7980fd0bf700>,\n",
            "            'ensemble_weight': 0.02,\n",
            "            'feature_preprocessor': <autosklearn.pipeline.components.feature_preprocessing.FeaturePreprocessorChoice object at 0x7980fb785de0>,\n",
            "            'model_id': 24,\n",
            "            'rank': 46,\n",
            "            'sklearn_classifier': RandomForestClassifier(bootstrap=False, max_features=11, min_samples_split=17,\n",
            "                       n_estimators=512, n_jobs=1, random_state=1,\n",
            "                       warm_start=True)},\n",
            "    28: {   'balancing': Balancing(random_state=1, strategy='weighting'),\n",
            "            'classifier': <autosklearn.pipeline.components.classification.ClassifierChoice object at 0x7980fd19fbb0>,\n",
            "            'cost': 0.327054794520548,\n",
            "            'data_preprocessor': <autosklearn.pipeline.components.data_preprocessing.DataPreprocessorChoice object at 0x7980fd14c040>,\n",
            "            'ensemble_weight': 0.02,\n",
            "            'feature_preprocessor': <autosklearn.pipeline.components.feature_preprocessing.FeaturePreprocessorChoice object at 0x7980fd46abc0>,\n",
            "            'model_id': 28,\n",
            "            'rank': 24,\n",
            "            'sklearn_classifier': LinearSVC(C=7435.005116337553, class_weight='balanced', dual=False,\n",
            "          intercept_scaling=1.0, random_state=1, tol=0.013676767460136425)},\n",
            "    29: {   'balancing': Balancing(random_state=1),\n",
            "            'classifier': <autosklearn.pipeline.components.classification.ClassifierChoice object at 0x7980fb5c5ff0>,\n",
            "            'cost': 0.2928082191780822,\n",
            "            'data_preprocessor': <autosklearn.pipeline.components.data_preprocessing.DataPreprocessorChoice object at 0x7980fd1a2a70>,\n",
            "            'ensemble_weight': 0.02,\n",
            "            'feature_preprocessor': <autosklearn.pipeline.components.feature_preprocessing.FeaturePreprocessorChoice object at 0x7980fb785b10>,\n",
            "            'model_id': 29,\n",
            "            'rank': 8,\n",
            "            'sklearn_classifier': LinearDiscriminantAnalysis(shrinkage=0.507217509493128, solver='lsqr',\n",
            "                           tol=2.215335147489255e-05)},\n",
            "    33: {   'balancing': Balancing(random_state=1, strategy='weighting'),\n",
            "            'classifier': <autosklearn.pipeline.components.classification.ClassifierChoice object at 0x7980fb5c4520>,\n",
            "            'cost': 0.273972602739726,\n",
            "            'data_preprocessor': <autosklearn.pipeline.components.data_preprocessing.DataPreprocessorChoice object at 0x7980fb707cd0>,\n",
            "            'ensemble_weight': 0.02,\n",
            "            'feature_preprocessor': <autosklearn.pipeline.components.feature_preprocessing.FeaturePreprocessorChoice object at 0x7980fb5c7dc0>,\n",
            "            'model_id': 33,\n",
            "            'rank': 1,\n",
            "            'sklearn_classifier': BernoulliNB(alpha=0.03147545970692877, fit_prior=False)},\n",
            "    35: {   'balancing': Balancing(random_state=1),\n",
            "            'classifier': <autosklearn.pipeline.components.classification.ClassifierChoice object at 0x7980fd181270>,\n",
            "            'cost': 0.3784246575342466,\n",
            "            'data_preprocessor': <autosklearn.pipeline.components.data_preprocessing.DataPreprocessorChoice object at 0x7980fd469930>,\n",
            "            'ensemble_weight': 0.04,\n",
            "            'feature_preprocessor': <autosklearn.pipeline.components.feature_preprocessing.FeaturePreprocessorChoice object at 0x7980fd1815d0>,\n",
            "            'model_id': 35,\n",
            "            'rank': 38,\n",
            "            'sklearn_classifier': LinearDiscriminantAnalysis(tol=1.4205914544604696e-05)},\n",
            "    36: {   'balancing': Balancing(random_state=1, strategy='weighting'),\n",
            "            'classifier': <autosklearn.pipeline.components.classification.ClassifierChoice object at 0x7980fd181150>,\n",
            "            'cost': 0.41609589041095896,\n",
            "            'data_preprocessor': <autosklearn.pipeline.components.data_preprocessing.DataPreprocessorChoice object at 0x7980fd153640>,\n",
            "            'ensemble_weight': 0.02,\n",
            "            'feature_preprocessor': <autosklearn.pipeline.components.feature_preprocessing.FeaturePreprocessorChoice object at 0x7980fd1826e0>,\n",
            "            'model_id': 36,\n",
            "            'rank': 50,\n",
            "            'sklearn_classifier': MLPClassifier(activation='tanh', alpha=6.294529726675073e-07, beta_1=0.999,\n",
            "              beta_2=0.9, hidden_layer_sizes=(130,),\n",
            "              learning_rate_init=0.09460949211633335, max_iter=32,\n",
            "              n_iter_no_change=32, random_state=1, validation_fraction=0.0,\n",
            "              verbose=0, warm_start=True)},\n",
            "    64: {   'balancing': Balancing(random_state=1),\n",
            "            'classifier': <autosklearn.pipeline.components.classification.ClassifierChoice object at 0x7980fb6c4490>,\n",
            "            'cost': 0.39212328767123283,\n",
            "            'data_preprocessor': <autosklearn.pipeline.components.data_preprocessing.DataPreprocessorChoice object at 0x7980fd19fd30>,\n",
            "            'ensemble_weight': 0.44,\n",
            "            'feature_preprocessor': <autosklearn.pipeline.components.feature_preprocessing.FeaturePreprocessorChoice object at 0x7980fb6c6e60>,\n",
            "            'model_id': 64,\n",
            "            'rank': 42,\n",
            "            'sklearn_classifier': AdaBoostClassifier(algorithm='SAMME',\n",
            "                   base_estimator=DecisionTreeClassifier(max_depth=9),\n",
            "                   learning_rate=0.14252224957613954, n_estimators=60,\n",
            "                   random_state=1)},\n",
            "    68: {   'balancing': Balancing(random_state=1, strategy='weighting'),\n",
            "            'classifier': <autosklearn.pipeline.components.classification.ClassifierChoice object at 0x7980fb6c4340>,\n",
            "            'cost': 0.398972602739726,\n",
            "            'data_preprocessor': <autosklearn.pipeline.components.data_preprocessing.DataPreprocessorChoice object at 0x7980fd182200>,\n",
            "            'ensemble_weight': 0.04,\n",
            "            'feature_preprocessor': <autosklearn.pipeline.components.feature_preprocessing.FeaturePreprocessorChoice object at 0x7980fb6c7fa0>,\n",
            "            'model_id': 68,\n",
            "            'rank': 45,\n",
            "            'sklearn_classifier': RandomForestClassifier(criterion='entropy', max_features=12, min_samples_leaf=6,\n",
            "                       min_samples_split=13, n_estimators=512, n_jobs=1,\n",
            "                       random_state=1, warm_start=True)},\n",
            "    97: {   'balancing': Balancing(random_state=1, strategy='weighting'),\n",
            "            'classifier': <autosklearn.pipeline.components.classification.ClassifierChoice object at 0x7980f8165d80>,\n",
            "            'cost': 0.398972602739726,\n",
            "            'data_preprocessor': <autosklearn.pipeline.components.data_preprocessing.DataPreprocessorChoice object at 0x7980fd1812a0>,\n",
            "            'ensemble_weight': 0.02,\n",
            "            'feature_preprocessor': <autosklearn.pipeline.components.feature_preprocessing.FeaturePreprocessorChoice object at 0x7980fd0f6ec0>,\n",
            "            'model_id': 97,\n",
            "            'rank': 44,\n",
            "            'sklearn_classifier': ExtraTreesClassifier(criterion='entropy', max_features=5, min_samples_leaf=6,\n",
            "                     n_estimators=512, n_jobs=1, random_state=1,\n",
            "                     warm_start=True)},\n",
            "    100: {   'balancing': Balancing(random_state=1, strategy='weighting'),\n",
            "             'classifier': <autosklearn.pipeline.components.classification.ClassifierChoice object at 0x7980f3cf2d70>,\n",
            "             'cost': 0.33390410958904104,\n",
            "             'data_preprocessor': <autosklearn.pipeline.components.data_preprocessing.DataPreprocessorChoice object at 0x7980fb6c55a0>,\n",
            "             'ensemble_weight': 0.02,\n",
            "             'feature_preprocessor': <autosklearn.pipeline.components.feature_preprocessing.FeaturePreprocessorChoice object at 0x7980f81645e0>,\n",
            "             'model_id': 100,\n",
            "             'rank': 27,\n",
            "             'sklearn_classifier': PassiveAggressiveClassifier(C=2.9583040834150597e-05, max_iter=128,\n",
            "                            random_state=1, tol=0.00015131788560528403,\n",
            "                            warm_start=True)},\n",
            "    101: {   'balancing': Balancing(random_state=1),\n",
            "             'classifier': <autosklearn.pipeline.components.classification.ClassifierChoice object at 0x7980f3a12740>,\n",
            "             'cost': 0.2773972602739726,\n",
            "             'data_preprocessor': <autosklearn.pipeline.components.data_preprocessing.DataPreprocessorChoice object at 0x7980fd0f7dc0>,\n",
            "             'ensemble_weight': 0.02,\n",
            "             'feature_preprocessor': <autosklearn.pipeline.components.feature_preprocessing.FeaturePreprocessorChoice object at 0x7980f3a121a0>,\n",
            "             'model_id': 101,\n",
            "             'rank': 2,\n",
            "             'sklearn_classifier': SGDClassifier(alpha=0.0016135600817425756, eta0=0.01, loss='perceptron',\n",
            "              max_iter=16, random_state=1, tol=0.06609978414048133,\n",
            "              warm_start=True)},\n",
            "    105: {   'balancing': Balancing(random_state=1, strategy='weighting'),\n",
            "             'classifier': <autosklearn.pipeline.components.classification.ClassifierChoice object at 0x7980f3a12c20>,\n",
            "             'cost': 0.30308219178082196,\n",
            "             'data_preprocessor': <autosklearn.pipeline.components.data_preprocessing.DataPreprocessorChoice object at 0x7980fd0f73d0>,\n",
            "             'ensemble_weight': 0.02,\n",
            "             'feature_preprocessor': <autosklearn.pipeline.components.feature_preprocessing.FeaturePreprocessorChoice object at 0x7980f3a12e60>,\n",
            "             'model_id': 105,\n",
            "             'rank': 14,\n",
            "             'sklearn_classifier': LinearDiscriminantAnalysis(shrinkage=0.9548967639404672, solver='lsqr',\n",
            "                           tol=0.049082521839558524)},\n",
            "    112: {   'balancing': Balancing(random_state=1, strategy='weighting'),\n",
            "             'classifier': <autosklearn.pipeline.components.classification.ClassifierChoice object at 0x7980f3cf15d0>,\n",
            "             'cost': 0.3407534246575342,\n",
            "             'data_preprocessor': <autosklearn.pipeline.components.data_preprocessing.DataPreprocessorChoice object at 0x7980f8164ca0>,\n",
            "             'ensemble_weight': 0.02,\n",
            "             'feature_preprocessor': <autosklearn.pipeline.components.feature_preprocessing.FeaturePreprocessorChoice object at 0x7980f3a114e0>,\n",
            "             'model_id': 112,\n",
            "             'rank': 30,\n",
            "             'sklearn_classifier': LinearDiscriminantAnalysis(shrinkage=0.7398924020412249, solver='lsqr',\n",
            "                           tol=6.181466510773685e-05)},\n",
            "    116: {   'balancing': Balancing(random_state=1),\n",
            "             'classifier': <autosklearn.pipeline.components.classification.ClassifierChoice object at 0x7980f3b4b2e0>,\n",
            "             'cost': 0.2928082191780822,\n",
            "             'data_preprocessor': <autosklearn.pipeline.components.data_preprocessing.DataPreprocessorChoice object at 0x7980f3a11390>,\n",
            "             'ensemble_weight': 0.02,\n",
            "             'feature_preprocessor': <autosklearn.pipeline.components.feature_preprocessing.FeaturePreprocessorChoice object at 0x7980f3b4ace0>,\n",
            "             'model_id': 116,\n",
            "             'rank': 6,\n",
            "             'sklearn_classifier': LinearDiscriminantAnalysis(shrinkage=0.3652861840304309, solver='lsqr',\n",
            "                           tol=6.19025891395842e-05)},\n",
            "    122: {   'balancing': Balancing(random_state=1),\n",
            "             'classifier': <autosklearn.pipeline.components.classification.ClassifierChoice object at 0x7980f3cf3eb0>,\n",
            "             'cost': 0.3047945205479452,\n",
            "             'data_preprocessor': <autosklearn.pipeline.components.data_preprocessing.DataPreprocessorChoice object at 0x7980f3a133a0>,\n",
            "             'ensemble_weight': 0.06,\n",
            "             'feature_preprocessor': <autosklearn.pipeline.components.feature_preprocessing.FeaturePreprocessorChoice object at 0x7980f3cf3bb0>,\n",
            "             'model_id': 122,\n",
            "             'rank': 17,\n",
            "             'sklearn_classifier': LinearDiscriminantAnalysis(shrinkage=0.43815829564210984, solver='lsqr',\n",
            "                           tol=6.74162344367172e-05)},\n",
            "    123: {   'balancing': Balancing(random_state=1),\n",
            "             'classifier': <autosklearn.pipeline.components.classification.ClassifierChoice object at 0x7980f3c8df00>,\n",
            "             'cost': 0.33390410958904104,\n",
            "             'data_preprocessor': <autosklearn.pipeline.components.data_preprocessing.DataPreprocessorChoice object at 0x7980f3a11990>,\n",
            "             'ensemble_weight': 0.06,\n",
            "             'feature_preprocessor': <autosklearn.pipeline.components.feature_preprocessing.FeaturePreprocessorChoice object at 0x7980f3c8d780>,\n",
            "             'model_id': 123,\n",
            "             'rank': 26,\n",
            "             'sklearn_classifier': LinearDiscriminantAnalysis(shrinkage=0.13356090987724512, solver='lsqr',\n",
            "                           tol=0.0010291358659869356)}}\n"
          ]
        }
      ],
      "source": [
        "from pprint import pprint\n",
        "pprint(cls.show_models(), indent=4)"
      ]
    },
    {
      "cell_type": "code",
      "execution_count": null,
      "metadata": {
        "colab": {
          "base_uri": "https://localhost:8080/"
        },
        "id": "tFilXKm-l3-s",
        "outputId": "021e98b8-b509-41b9-a27d-e9c9f2f1f9bc"
      },
      "outputs": [
        {
          "name": "stdout",
          "output_type": "stream",
          "text": [
            "acc: 0.7406779661016949\n",
            "f1_macro: 0.3878562672051671\n",
            "matthew_corr: 0.67255068002439\n"
          ]
        }
      ],
      "source": [
        "predictions = cls.predict(x_test)\n",
        "print('acc:', sklearn.metrics.accuracy_score(y_test, predictions))\n",
        "print('f1_macro:', sklearn.metrics.f1_score(y_test, predictions, average='macro'))\n",
        "print('matthew_corr:', sklearn.metrics.matthews_corrcoef(y_test, predictions))"
      ]
    },
    {
      "cell_type": "code",
      "execution_count": null,
      "metadata": {
        "colab": {
          "base_uri": "https://localhost:8080/"
        },
        "id": "79qxgvDnyC5O",
        "outputId": "ef76d3bd-69af-451f-9d3e-3a899ba5db60"
      },
      "outputs": [
        {
          "name": "stderr",
          "output_type": "stream",
          "text": [
            "Fitting to the training data: 100%|\u001b[32m██████████\u001b[0m| 3600/3600 [59:52<00:00,  1.00it/s, The total time budget for this task is 1:00:00]\n"
          ]
        },
        {
          "name": "stdout",
          "output_type": "stream",
          "text": [
            "acc: 0.7237288135593221\n",
            "f1_macro: 0.46118044859986146\n",
            "matthew_corr: 0.6512177222944919\n"
          ]
        }
      ],
      "source": [
        "import autosklearn.classification\n",
        "import numpy as np\n",
        "import sklearn.metrics\n",
        "from sklearn.model_selection import train_test_split\n",
        "\n",
        "\n",
        "npz = np.load('data_matrix.npz')\n",
        "x_train, x_test, y_train, y_test = train_test_split(npz['x'], npz['y'])\n",
        "\n",
        "cls = autosklearn.classification.AutoSklearnClassifier(metric=autosklearn.metrics.f1_macro)\n",
        "cls.fit(x_train, y_train)\n",
        "\n",
        "predictions = cls.predict(x_test)\n",
        "print('acc:', sklearn.metrics.accuracy_score(y_test, predictions))\n",
        "print('f1_macro:', sklearn.metrics.f1_score(y_test, predictions, average='macro'))\n",
        "print('matthew_corr:', sklearn.metrics.matthews_corrcoef(y_test, predictions))"
      ]
    },
    {
      "cell_type": "code",
      "execution_count": null,
      "metadata": {
        "colab": {
          "base_uri": "https://localhost:8080/"
        },
        "id": "oLpxb7QQrqTl",
        "outputId": "77826709-4a5f-4743-e246-73c29958b345"
      },
      "outputs": [
        {
          "name": "stderr",
          "output_type": "stream",
          "text": [
            "\rFitting to the training data:   0%|\u001b[32m          \u001b[0m| 0/3600 [00:00<?, ?it/s, The total time budget for this task is 1:00:00]"
          ]
        },
        {
          "name": "stdout",
          "output_type": "stream",
          "text": [
            "[WARNING] [2023-08-14 20:16:12,523:Client-Validation] The provided feature types to autosklearn are of type list.Features have been interpreted as: [(0, string[python])]\n",
            "[WARNING] [2023-08-14 20:16:12,533:Client-Validation] The provided feature types to autosklearn are of type list.Features have been interpreted as: [(0, string[python])]\n"
          ]
        },
        {
          "name": "stderr",
          "output_type": "stream",
          "text": [
            "Fitting to the training data: 100%|\u001b[32m██████████\u001b[0m| 3600/3600 [59:50<00:00,  1.00it/s, The total time budget for this task is 1:00:00]\n"
          ]
        },
        {
          "name": "stdout",
          "output_type": "stream",
          "text": [
            "acc: 0.7762711864406779\n",
            "f1_macro: 0.4571162936880937\n",
            "matthew_corr: 0.7224019180774421\n"
          ]
        }
      ],
      "source": [
        "import autosklearn.classification\n",
        "import numpy as np\n",
        "import sklearn.metrics\n",
        "from sklearn.model_selection import train_test_split\n",
        "\n",
        "npz = np.load('data_text.npz', allow_pickle=True)\n",
        "x_train, x_test, y_train, y_test = train_test_split(npz['x'], npz['y'])\n",
        "x_train = x_train.tolist()\n",
        "x_test = x_test.tolist()\n",
        "\n",
        "cls = autosklearn.classification.AutoSklearnClassifier(metric=autosklearn.metrics.f1_macro)\n",
        "cls.fit(x_train, y_train)\n",
        "\n",
        "predictions = cls.predict(x_test)\n",
        "print('acc:', sklearn.metrics.accuracy_score(y_test, predictions))\n",
        "print('f1_macro:', sklearn.metrics.f1_score(y_test, predictions, average='macro'))\n",
        "print('matthew_corr:', sklearn.metrics.matthews_corrcoef(y_test, predictions))"
      ]
    },
    {
      "cell_type": "code",
      "execution_count": 5,
      "metadata": {
        "colab": {
          "base_uri": "https://localhost:8080/"
        },
        "id": "dte4MiNtdBFr",
        "outputId": "99557aa8-abee-4c62-def6-f4c30489c385"
      },
      "outputs": [
        {
          "metadata": {
            "tags": null
          },
          "name": "stderr",
          "output_type": "stream",
          "text": [
            "\rFitting to the training data:   0%|\u001b[32m          \u001b[0m| 0/10800 [00:00<?, ?it/s, The total time budget for this task is 3:00:00]"
          ]
        },
        {
          "metadata": {
            "tags": null
          },
          "name": "stdout",
          "output_type": "stream",
          "text": [
            "[WARNING] [2023-08-14 23:49:30,217:Client-Validation] The provided feature types to autosklearn are of type list.Features have been interpreted as: [(0, string[python])]\n",
            "[WARNING] [2023-08-14 23:49:30,232:Client-Validation] The provided feature types to autosklearn are of type list.Features have been interpreted as: [(0, string[python])]\n"
          ]
        },
        {
          "output_type": "stream",
          "name": "stderr",
          "text": [
            "Fitting to the training data: 100%|\u001b[32m██████████\u001b[0m| 10800/10800 [3:00:10<00:00,  1.00s/it, The total time budget for this task is 3:00:00]\n"
          ]
        },
        {
          "output_type": "stream",
          "name": "stdout",
          "text": [
            "acc: 0.7694915254237288\n",
            "f1_macro: 0.3859832210092916\n",
            "matthew_corr: 0.6965149423612256\n"
          ]
        }
      ],
      "source": [
        "import autosklearn.classification\n",
        "import numpy as np\n",
        "import sklearn.metrics\n",
        "from sklearn.model_selection import train_test_split\n",
        "\n",
        "\n",
        "npz = np.load('data_text.npz', allow_pickle=True)\n",
        "x_train, x_test, y_train, y_test = train_test_split(npz['x'], npz['y'])\n",
        "x_train = x_train.tolist()\n",
        "x_test = x_test.tolist()\n",
        "\n",
        "cls = autosklearn.classification.AutoSklearnClassifier(\n",
        "    time_left_for_this_task=3 * 3600,\n",
        "    metric=autosklearn.metrics.f1_macro\n",
        ")\n",
        "cls.fit(x_train, y_train)\n",
        "\n",
        "predictions = cls.predict(x_test)\n",
        "print('acc:', sklearn.metrics.accuracy_score(y_test, predictions))\n",
        "print('f1_macro:', sklearn.metrics.f1_score(y_test, predictions, average='macro'))\n",
        "print('matthew_corr:', sklearn.metrics.matthews_corrcoef(y_test, predictions))"
      ]
    }
  ],
  "metadata": {
    "colab": {
      "provenance": []
    },
    "kernelspec": {
      "display_name": "Python 3",
      "name": "python3"
    },
    "language_info": {
      "name": "python"
    }
  },
  "nbformat": 4,
  "nbformat_minor": 0
}